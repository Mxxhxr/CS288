import matplotlib.pyplot as plt

# Data for the graph
data = {
    'Size': [10, 100, 1000, 10000, 100000, 1000000, 10000000, 100000000],
    'Insertion': [0.001, 0.006, 0.418, 39.424, 3941.553, 621386, None, None],
    'Merge': [0.002, 0.01, 0.099, 1.094, 12.469, 139.715, 1637.363, 17389.146],
    'Quick': [0.002, 0.007, 0.091, 6.006, 562.546, 55807.845, 390654.915, 446462.76],
    'Radix': [0.003, 0.007, 0.052, 0.507, 5.13, 56.338, 541.867, 5517.102]
}

# Create the plot
plt.figure(figsize=(12, 6))
plt.plot(data['Size'], data['Insertion'], marker='o', label='Insertion')
plt.plot(data['Size'], data['Merge'], marker='o', label='Merge')
plt.plot(data['Size'], data['Quick'], marker='o', label='Quick')
plt.plot(data['Size'], data['Radix'], marker='o', label='Radix')

# Set plot labels and title
plt.xlabel('Data Set Size')
plt.ylabel('Execution Time (ms)')
plt.title('Comparison of Sorting Algorithms')
plt.xscale('log')  # Use logarithmic scale for x-axis

# Add legend
plt.legend()

# Show plot
plt.show()
